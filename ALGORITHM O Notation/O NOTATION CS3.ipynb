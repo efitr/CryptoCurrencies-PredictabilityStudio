{
 "cells": [
  {
   "cell_type": "code",
   "execution_count": 1,
   "metadata": {
    "collapsed": true
   },
   "outputs": [],
   "source": [
    "#O Notation\n",
    "#The objective of this project is to get a better grasp on O Notation while learning how to implement better algorithms \n",
    "#on python.\n",
    "#All the code will be subjected to O Notation analysis and will be compared how different implementation affect the time.\n",
    "#Then it will be graph to see how it's O Notation seems in action"
   ]
  },
  {
   "cell_type": "code",
   "execution_count": null,
   "metadata": {
    "collapsed": true
   },
   "outputs": [],
   "source": [
    "#To begin explaining what O Notation is, we first must began on what it is:\n",
    "\n",
    "#DIAGRAM \n"
   ]
  }
 ],
 "metadata": {
  "kernelspec": {
   "display_name": "Python 3",
   "language": "python",
   "name": "python3"
  },
  "language_info": {
   "codemirror_mode": {
    "name": "ipython",
    "version": 3
   },
   "file_extension": ".py",
   "mimetype": "text/x-python",
   "name": "python",
   "nbconvert_exporter": "python",
   "pygments_lexer": "ipython3",
   "version": "3.6.3"
  }
 },
 "nbformat": 4,
 "nbformat_minor": 2
}
