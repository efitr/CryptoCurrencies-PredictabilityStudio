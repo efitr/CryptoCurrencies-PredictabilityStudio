{
 "cells": [
  {
   "cell_type": "markdown",
   "metadata": {},
   "source": [
    "# Predictability Analysis"
   ]
  },
  {
   "cell_type": "code",
   "execution_count": 109,
   "metadata": {
    "collapsed": true
   },
   "outputs": [],
   "source": [
    "import pandas as pd"
   ]
  },
  {
   "cell_type": "code",
   "execution_count": 1,
   "metadata": {
    "scrolled": true
   },
   "outputs": [],
   "source": [
    "#df = pd.read_csv('datasets/bitcoin-historical-data/bitflyerJPY_1-min_data_2017-07-04_to_2018-01-08.csv')\n",
    "#df"
   ]
  },
  {
   "cell_type": "code",
   "execution_count": 8,
   "metadata": {
    "collapsed": true
   },
   "outputs": [],
   "source": [
    "#Guideline to complete\n",
    "    #4-6 min presentation\n",
    "    #Markdown\n",
    "    #"
   ]
  },
  {
   "cell_type": "code",
   "execution_count": 9,
   "metadata": {
    "collapsed": true
   },
   "outputs": [],
   "source": [
    "#Simple analysis I can make with the data to make graphics out of it\n",
    "#First I have to make the timestamp reflect a proper moment in time, easy to understand\n",
    "#Got to make three lines, one that follows the path of OPEN, the average (HIGH and LOW) and CLOSE\n",
    "    #Does the average of HIGH and LOW tends to be in between open and close, and closer to which one\n",
    "    #it is before a plunge or rise compared to the day before\n",
    "#var number_of_days 189 days counting the last\n",
    "\n",
    "#timestamp_day = 266774/number_of_days = how many timestamps are in a day\n",
    "#timestamp_day = 1411 "
   ]
  },
  {
   "cell_type": "code",
   "execution_count": 10,
   "metadata": {
    "collapsed": true
   },
   "outputs": [],
   "source": [
    "#I want to manage a complete study of the way cryptocurrencie value increased and decreased through time\n",
    "# 'x' axis will measure time through a period, 'y' axis will measure the value of ##some possible value in an unknow range\n",
    "\n",
    "#Google \n",
    "#Moving Range Chart\n"
   ]
  },
  {
   "cell_type": "code",
   "execution_count": 11,
   "metadata": {
    "collapsed": true
   },
   "outputs": [],
   "source": [
    "#Process To be Done\n",
    "# - Function that creates a new column with the time of predictability that particular timestamp\n",
    "#    has.\n",
    "#- Make a Graph out of this, make each timestamp a understandable time ('x' axis) time series, \n",
    "#the net worth of bitcoin ('y' axis), there must be three lines, one is the open and close, and\n",
    "#the average of high/low.\n",
    "#- Make some suppositions, one could be the when prices are going down finding this pattern \n",
    "#(Markov Chain) these type of grouping means and added chance of this happening next.\n",
    "#- Another Analysis, does the chance of the average been closer to open or close predicts the\n",
    "#chance of it moving towards a particular rising or diminishing state, with what probability.\n",
    "#- Moving range values"
   ]
  },
  {
   "cell_type": "code",
   "execution_count": 5,
   "metadata": {
    "scrolled": true
   },
   "outputs": [
    {
     "data": {
      "text/plain": [
       "['Upward Unpredictability']"
      ]
     },
     "execution_count": 5,
     "metadata": {},
     "output_type": "execute_result"
    }
   ],
   "source": [
    "#Predictability type assignment\n",
    "import numpy as np\n",
    "\n",
    "definitions_key = {'up': 'Upward Unpredictability', 'down': 'Downward Unpredictability', 'chaos': 'Complete Unpredictability', 'norm': 'Normal Predictability'}\n",
    "predictability_labels = []\n",
    "\n",
    "def assign_predictability_metrics(Open, Close, High, Low):\n",
    "\n",
    "    #if prices went up (open is lower than close)\n",
    "    if Open < Close:\n",
    "        up = 0\n",
    "        down = 0\n",
    "        \n",
    "        if High > Close: #value is upward_unpredictability\n",
    "            up += 1\n",
    "        if Low < Open: #value is down\n",
    "            down += 1\n",
    "        \n",
    "        ##if upward_unpredictability is not 1 and down is not 1:\n",
    "        if up == 0 and down == 0:\n",
    "            predictability_labels.append(definitions_key['norm'])\n",
    "        ##elif it has upward_unpredictability and not downward unpreditability\n",
    "        elif up == 1 and down == 0:\n",
    "            predictability_labels.append(definitions_key['up'])\n",
    "        #elif it not has upward_unpredictability and has down\n",
    "        elif up == 0 and down == 1:\n",
    "            predictability_labels.append(definitions_key['down'])\n",
    "        else:\n",
    "            predictability_labels.append(definitions_key['chaos'])\n",
    "        \n",
    "    #if prices went down (open is higher than close)\n",
    "    if Open > Close:\n",
    "        up = 0\n",
    "        down = 0\n",
    "\n",
    "        if Low > Close:\n",
    "            up += 1\n",
    "        if High > Open: \n",
    "            down += 1\n",
    "            \n",
    "        ##if upward_unpredictability is not 1 and down is not 1:\n",
    "        if up == 0 and down == 0:\n",
    "            predictability_labels.append(definitions_key['norm'])\n",
    "        ##elif it has upward_unpredictability and not downward unpreditability\n",
    "        elif up == 1 and down == 0:\n",
    "            predictability_labels.append(definitions_key['up'])\n",
    "        #elif it not has upward_unpredictability and has down\n",
    "        elif up == 0 and down == 1:\n",
    "            predictability_labels.append(definitions_key['down'])\n",
    "        else:\n",
    "            predictability_labels.append(definitions_key['chaos'])\n",
    "    \n",
    "    return predictability_labels\n",
    "\n",
    "assign_predictability_metrics((1,4,6,2),(3,5,6,2),(4,23,4,5), (3,1,6,4))"
   ]
  },
  {
   "cell_type": "code",
   "execution_count": 108,
   "metadata": {},
   "outputs": [
    {
     "ename": "NameError",
     "evalue": "name 'dfpredictability_metrics' is not defined",
     "output_type": "error",
     "traceback": [
      "\u001b[0;31m---------------------------------------------------------------------------\u001b[0m",
      "\u001b[0;31mNameError\u001b[0m                                 Traceback (most recent call last)",
      "\u001b[0;32m<ipython-input-108-08a1d5ba287b>\u001b[0m in \u001b[0;36m<module>\u001b[0;34m()\u001b[0m\n\u001b[1;32m     15\u001b[0m \u001b[0;34m\u001b[0m\u001b[0m\n\u001b[1;32m     16\u001b[0m \u001b[0;31m# len(predictability_labels)\u001b[0m\u001b[0;34m\u001b[0m\u001b[0;34m\u001b[0m\u001b[0m\n\u001b[0;32m---> 17\u001b[0;31m \u001b[0massigning_predictability\u001b[0m\u001b[0;34m(\u001b[0m\u001b[0mdf_predictability_metrics\u001b[0m\u001b[0;34m)\u001b[0m\u001b[0;34m\u001b[0m\u001b[0m\n\u001b[0m\u001b[1;32m     18\u001b[0m \u001b[0;34m\u001b[0m\u001b[0m\n\u001b[1;32m     19\u001b[0m \u001b[0;31m# df_predictability_metrics['Predictability Label'] = predictability_labels\u001b[0m\u001b[0;34m\u001b[0m\u001b[0;34m\u001b[0m\u001b[0m\n",
      "\u001b[0;32m<ipython-input-108-08a1d5ba287b>\u001b[0m in \u001b[0;36massigning_predictability\u001b[0;34m(df_predictability_metrics)\u001b[0m\n\u001b[1;32m     10\u001b[0m     \u001b[0mdf_assigned_predictability\u001b[0m \u001b[0;34m=\u001b[0m \u001b[0mnp\u001b[0m\u001b[0;34m.\u001b[0m\u001b[0marray\u001b[0m\u001b[0;34m(\u001b[0m\u001b[0;34m[\u001b[0m\u001b[0;34m]\u001b[0m\u001b[0;34m)\u001b[0m\u001b[0;34m\u001b[0m\u001b[0m\n\u001b[1;32m     11\u001b[0m     \u001b[0;32mfor\u001b[0m \u001b[0mnum_row\u001b[0m \u001b[0;32min\u001b[0m \u001b[0mnp\u001b[0m\u001b[0;34m.\u001b[0m\u001b[0marray\u001b[0m\u001b[0;34m(\u001b[0m\u001b[0mdf_predictability_metrics\u001b[0m\u001b[0;34m)\u001b[0m\u001b[0;34m:\u001b[0m\u001b[0;34m\u001b[0m\u001b[0m\n\u001b[0;32m---> 12\u001b[0;31m         \u001b[0mdf_assigned_predictability\u001b[0m \u001b[0;34m+=\u001b[0m \u001b[0mdfpredictability_metrics\u001b[0m\u001b[0;34m(\u001b[0m\u001b[0mrow\u001b[0m\u001b[0;34m[\u001b[0m\u001b[0mnum_row\u001b[0m\u001b[0;34m]\u001b[0m\u001b[0;34m,\u001b[0m \u001b[0mrow\u001b[0m\u001b[0;34m[\u001b[0m\u001b[0mnum_row\u001b[0m\u001b[0;34m]\u001b[0m\u001b[0;34m,\u001b[0m \u001b[0mrow\u001b[0m\u001b[0;34m[\u001b[0m\u001b[0mnum_row\u001b[0m\u001b[0;34m]\u001b[0m\u001b[0;34m,\u001b[0m \u001b[0mrow\u001b[0m\u001b[0;34m[\u001b[0m\u001b[0mnum_row\u001b[0m\u001b[0;34m]\u001b[0m\u001b[0;34m)\u001b[0m\u001b[0;34m\u001b[0m\u001b[0m\n\u001b[0m\u001b[1;32m     13\u001b[0m         \u001b[0mnum_row\u001b[0m \u001b[0;34m+=\u001b[0m \u001b[0;36m1\u001b[0m\u001b[0;34m\u001b[0m\u001b[0m\n\u001b[1;32m     14\u001b[0m     \u001b[0;32mreturn\u001b[0m \u001b[0mdf_assigned_predictability\u001b[0m\u001b[0;34m\u001b[0m\u001b[0m\n",
      "\u001b[0;31mNameError\u001b[0m: name 'dfpredictability_metrics' is not defined"
     ]
    }
   ],
   "source": [
    "# arr_open = np.array(df['Open'])\n",
    "# arr_close = np.array(df['Close'])\n",
    "# arr_high = np.array(df['High'])\n",
    "# arr_low = np.array(df['Low'])\n",
    "\n",
    "#This is setting into df_predictability_metrics \n",
    "df_predictability_metrics = pd.concat([])\n",
    "\n",
    "def assigning_predictability():\n",
    "    df_assigned_predictability = np.array([])\n",
    "    for num_row in np.array(df_predictability_metrics(df['Open'], df['Close'], df['High'], df['Low'])):\n",
    "        df_assigned_predictability += dfpredictability_metrics(row[num_row], row[num_row], row[num_row], row[num_row])\n",
    "        num_row += 1\n",
    "    return df_assigned_predictability\n",
    "    \n",
    "# len(predictability_labels)\n",
    "assigning_predictability(df_predictability_metrics)\n",
    "\n",
    "# df_predictability_metrics['Predictability Label'] = predictability_labels\n",
    "# df_predictability_metrics\n",
    "\n",
    "#df_open\n",
    "#df_close\n",
    "#df_high\n",
    "#df_low\n",
    "\n",
    "# This should create a new column with the predictive values\n",
    "\n",
    "# Iterate through original dataframe\n",
    "    # Run assign_predictability_metrics() function on each dataframe set"
   ]
  },
  {
   "cell_type": "code",
   "execution_count": null,
   "metadata": {
    "collapsed": true
   },
   "outputs": [],
   "source": []
  },
  {
   "cell_type": "code",
   "execution_count": null,
   "metadata": {
    "collapsed": true
   },
   "outputs": [],
   "source": []
  }
 ],
 "metadata": {
  "kernelspec": {
   "display_name": "Python 3",
   "language": "python",
   "name": "python3"
  },
  "language_info": {
   "codemirror_mode": {
    "name": "ipython",
    "version": 3
   },
   "file_extension": ".py",
   "mimetype": "text/x-python",
   "name": "python",
   "nbconvert_exporter": "python",
   "pygments_lexer": "ipython3",
   "version": "3.6.3"
  }
 },
 "nbformat": 4,
 "nbformat_minor": 2
}
